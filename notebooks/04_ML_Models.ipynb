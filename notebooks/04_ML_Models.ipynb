{
 "cells": [
  {
   "cell_type": "markdown",
   "id": "7a46b20b",
   "metadata": {},
   "source": [
    "# Transformer Apply for QQQ ETF"
   ]
  },
  {
   "cell_type": "markdown",
   "id": "18ab245b",
   "metadata": {},
   "source": [
    "## 数据预处理："
   ]
  },
  {
   "cell_type": "code",
   "execution_count": 6,
   "id": "a55b112b",
   "metadata": {},
   "outputs": [
    {
     "name": "stderr",
     "output_type": "stream",
     "text": [
      "/tmp/ipykernel_19616/3362710582.py:14: FutureWarning: In a future version of pandas, parsing datetimes with mixed time zones will raise an error unless `utc=True`. Please specify `utc=True` to opt in to the new behaviour and silence this warning. To create a `Series` with mixed offsets and `object` dtype, please use `apply` and `datetime.datetime.strptime`\n",
      "  data['Date'] = pd.to_datetime(data['Date'])\n",
      "/tmp/ipykernel_19616/3362710582.py:33: UserWarning: To copy construct from a tensor, it is recommended to use sourceTensor.clone().detach() or sourceTensor.clone().detach().requires_grad_(True), rather than torch.tensor(sourceTensor).\n",
      "  return torch.tensor(sequences, dtype=torch.float32), torch.tensor(targets, dtype=torch.float32)\n"
     ]
    }
   ],
   "source": [
    "import sys\n",
    "sys.path.append('/workspaces/AI-Trader')\n",
    "import pandas as pd\n",
    "import torch\n",
    "from sklearn.preprocessing import MinMaxScaler\n",
    "\n",
    "# 读取数据\n",
    "data = pd.read_csv('/workspaces/AI-Trader/data/raw/qqq_history.csv')\n",
    "\n",
    "# 选择需要的列（如 'Close' 作为目标变量）\n",
    "data = data[['Date', 'Close']]\n",
    "\n",
    "# 转换日期格式并排序\n",
    "data['Date'] = pd.to_datetime(data['Date'])\n",
    "data = data.sort_values('Date')\n",
    "\n",
    "# 归一化处理\n",
    "scaler = MinMaxScaler(feature_range=(0, 1))\n",
    "data['Close'] = scaler.fit_transform(data[['Close']])\n",
    "\n",
    "# 创建时间序列数据\n",
    "def create_sequences(data, seq_len):\n",
    "    sequences = []\n",
    "    targets = []\n",
    "    for i in range(len(data) - seq_len):\n",
    "        seq = data[i:i + seq_len]\n",
    "        target = data[i + seq_len]\n",
    "        sequences.append(seq)\n",
    "        targets.append(target)\n",
    "     # 添加特征维度\n",
    "    sequences = torch.tensor(sequences, dtype=torch.float32).unsqueeze(-1)  # (batch_size, seq_len, 1)\n",
    "    targets = torch.tensor(targets, dtype=torch.float32)\n",
    "    return torch.tensor(sequences, dtype=torch.float32), torch.tensor(targets, dtype=torch.float32)\n",
    "\n",
    "seq_len = 30  # 使用过去 30 天的数据预测未来\n",
    "X, y = create_sequences(data['Close'].values, seq_len)"
   ]
  },
  {
   "cell_type": "markdown",
   "id": "f849bc82",
   "metadata": {},
   "source": [
    "## 模型训练"
   ]
  },
  {
   "cell_type": "code",
   "execution_count": 11,
   "id": "89826793",
   "metadata": {},
   "outputs": [
    {
     "name": "stderr",
     "output_type": "stream",
     "text": [
      "/home/codespace/.local/lib/python3.12/site-packages/torch/nn/modules/transformer.py:385: UserWarning: enable_nested_tensor is True, but self.use_nested_tensor is False because encoder_layer.self_attn.batch_first was not True(use batch_first for better inference performance)\n",
      "  warnings.warn(\n"
     ]
    },
    {
     "ename": "AttributeError",
     "evalue": "'TimeSeriesTransformer' object has no attribute 'train_epoch'",
     "output_type": "error",
     "traceback": [
      "\u001b[31m---------------------------------------------------------------------------\u001b[39m",
      "\u001b[31mAttributeError\u001b[39m                            Traceback (most recent call last)",
      "\u001b[36mCell\u001b[39m\u001b[36m \u001b[39m\u001b[32mIn[11]\u001b[39m\u001b[32m, line 22\u001b[39m\n\u001b[32m     19\u001b[39m train_accuracies, val_accuracies = [], []\n\u001b[32m     21\u001b[39m \u001b[38;5;28;01mfor\u001b[39;00m epoch \u001b[38;5;129;01min\u001b[39;00m \u001b[38;5;28mrange\u001b[39m(\u001b[32m50\u001b[39m):  \u001b[38;5;66;03m# 假设 50 个 epoch\u001b[39;00m\n\u001b[32m---> \u001b[39m\u001b[32m22\u001b[39m     train_loss, train_acc = \u001b[43mmodel\u001b[49m\u001b[43m.\u001b[49m\u001b[43mtrain_epoch\u001b[49m(X_train, y_train)  \u001b[38;5;66;03m# 假设 train_epoch 返回损失和方向准确率\u001b[39;00m\n\u001b[32m     23\u001b[39m     val_loss, val_acc = model.validate(X_val, y_val)  \u001b[38;5;66;03m# 假设 validate 返回损失和方向准确率\u001b[39;00m\n\u001b[32m     25\u001b[39m     train_losses.append(train_loss)\n",
      "\u001b[36mFile \u001b[39m\u001b[32m~/.local/lib/python3.12/site-packages/torch/nn/modules/module.py:1928\u001b[39m, in \u001b[36mModule.__getattr__\u001b[39m\u001b[34m(self, name)\u001b[39m\n\u001b[32m   1926\u001b[39m     \u001b[38;5;28;01mif\u001b[39;00m name \u001b[38;5;129;01min\u001b[39;00m modules:\n\u001b[32m   1927\u001b[39m         \u001b[38;5;28;01mreturn\u001b[39;00m modules[name]\n\u001b[32m-> \u001b[39m\u001b[32m1928\u001b[39m \u001b[38;5;28;01mraise\u001b[39;00m \u001b[38;5;167;01mAttributeError\u001b[39;00m(\n\u001b[32m   1929\u001b[39m     \u001b[33mf\u001b[39m\u001b[33m\"\u001b[39m\u001b[33m'\u001b[39m\u001b[38;5;132;01m{\u001b[39;00m\u001b[38;5;28mtype\u001b[39m(\u001b[38;5;28mself\u001b[39m).\u001b[34m__name__\u001b[39m\u001b[38;5;132;01m}\u001b[39;00m\u001b[33m'\u001b[39m\u001b[33m object has no attribute \u001b[39m\u001b[33m'\u001b[39m\u001b[38;5;132;01m{\u001b[39;00mname\u001b[38;5;132;01m}\u001b[39;00m\u001b[33m'\u001b[39m\u001b[33m\"\u001b[39m\n\u001b[32m   1930\u001b[39m )\n",
      "\u001b[31mAttributeError\u001b[39m: 'TimeSeriesTransformer' object has no attribute 'train_epoch'"
     ]
    }
   ],
   "source": [
    "# 数据划分\n",
    "train_size = int(0.7 * len(X))\n",
    "val_size = int(0.15 * len(X))\n",
    "test_size = len(X) - train_size - val_size\n",
    "\n",
    "X_train, X_val, X_test = X[:train_size], X[train_size:train_size + val_size], X[train_size + val_size:]\n",
    "y_train, y_val, y_test = y[:train_size], y[train_size:train_size + val_size], y[train_size + val_size:]\n",
    "\n",
    "# 初始化模型\n",
    "from models.ml.transformer import TimeSeriesTransformer\n",
    "# 假设 TimeSeriesTransformer 已经定义并导入\n",
    "feature_dim = 1  # 每天只有一个特征（收盘价）\n",
    "model = TimeSeriesTransformer(feature_dim=feature_dim, seq_len=seq_len, num_heads=1, hidden_dim=64)\n",
    "\n",
    "# 训练模型并记录损失和方向准确率\n",
    "import matplotlib.pyplot as plt\n",
    "\n",
    "train_losses, val_losses = [], []\n",
    "train_accuracies, val_accuracies = [], []\n",
    "\n",
    "for epoch in range(50):  # 假设 50 个 epoch\n",
    "    train_loss, train_acc = model.train_epoch(X_train, y_train)  # 假设 train_epoch 返回损失和方向准确率\n",
    "    val_loss, val_acc = model.validate(X_val, y_val)  # 假设 validate 返回损失和方向准确率\n",
    "\n",
    "    train_losses.append(train_loss)\n",
    "    val_losses.append(val_loss)\n",
    "    train_accuracies.append(train_acc)\n",
    "    val_accuracies.append(val_acc)\n",
    "\n",
    "    print(f\"Epoch [{epoch + 1}/50], Train Loss: {train_loss:.4f}, Val Loss: {val_loss:.4f}, Train Acc: {train_acc:.2f}, Val Acc: {val_acc:.2f}\")\n",
    "# 绘制损失曲线\n",
    "print(\"Draw the loss curve\")\n",
    "plt.figure(figsize=(12, 6))\n",
    "plt.subplot(1, 2, 1)\n",
    "plt.plot(train_losses, label='Train Loss')\n",
    "plt.plot(val_losses, label='Val Loss')\n",
    "plt.xlabel('Epoch')\n",
    "plt.ylabel('Loss')\n",
    "plt.legend()\n",
    "plt.title('Loss Curve')\n",
    "\n",
    "# 绘制方向准确率曲线\n",
    "print(\"Draw the direction accuracy curve\")\n",
    "plt.subplot(1, 2, 2)\n",
    "plt.plot(train_accuracies, label='Train Accuracy')\n",
    "plt.plot(val_accuracies, label='Val Accuracy')\n",
    "plt.xlabel('Epoch')\n",
    "plt.ylabel('Accuracy')\n",
    "plt.legend()\n",
    "plt.title('Accuracy Curve')\n",
    "plt.show()\n",
    "\n",
    "# 测试集评估\n",
    "from sklearn.metrics import mean_squared_error, mean_absolute_error\n",
    "\n",
    "predictions = model.predict(X_test)\n",
    "mse = mean_squared_error(y_test, predictions)\n",
    "mae = mean_absolute_error(y_test, predictions)\n",
    "\n",
    "# 计算方向准确率\n",
    "direction_accuracy = (np.sign(predictions) == np.sign(y_test)).mean()\n",
    "\n",
    "print(f\"Test MSE: {mse:.4f}, Test MAE: {mae:.4f}, Direction Accuracy: {direction_accuracy:.2f}\")"
   ]
  },
  {
   "cell_type": "markdown",
   "id": "2a9673a6",
   "metadata": {},
   "source": [
    "## 预测与策略生成"
   ]
  },
  {
   "cell_type": "code",
   "execution_count": 3,
   "id": "bae08862",
   "metadata": {},
   "outputs": [],
   "source": [
    "\n",
    "# 预测\n",
    "predictions = model.predict(X_test)\n",
    "\n",
    "# 反归一化\n",
    "predictions = scaler.inverse_transform(predictions.detach().numpy())\n",
    "y_test = scaler.inverse_transform(y_test.numpy().reshape(-1, 1))"
   ]
  },
  {
   "cell_type": "code",
   "execution_count": 4,
   "id": "4c528eff",
   "metadata": {},
   "outputs": [
    {
     "name": "stdout",
     "output_type": "stream",
     "text": [
      "                        Date      Actual   Predicted Signal\n",
      "0  2020-01-27 00:00:00-05:00  211.204575 -288.426941   Sell\n",
      "1  2020-01-28 00:00:00-05:00  214.448685 -288.426941   Sell\n",
      "2  2020-01-29 00:00:00-05:00  214.797256 -288.426941   Sell\n",
      "3  2020-01-30 00:00:00-05:00  215.562286 -288.426941   Sell\n",
      "4  2020-01-31 00:00:00-05:00  212.143906 -288.426941   Sell\n"
     ]
    }
   ],
   "source": [
    "# 生成交易信号：根据预测值生成买入、卖出或持有信号：\n",
    "import numpy as np\n",
    "\n",
    "# 简单策略：如果预测价格高于当前价格，则买入；否则卖出\n",
    "signals = []\n",
    "for i in range(len(predictions)):\n",
    "    if predictions[i] > y_test[i]:\n",
    "        signals.append('Buy')\n",
    "    else:\n",
    "        signals.append('Sell')\n",
    "\n",
    "# 将信号与日期对应\n",
    "results = pd.DataFrame({\n",
    "    'Date': data['Date'].iloc[train_size + seq_len:].values,\n",
    "    'Actual': y_test.flatten(),\n",
    "    'Predicted': predictions.flatten(),\n",
    "    'Signal': signals\n",
    "})\n",
    "print(results.head())"
   ]
  },
  {
   "cell_type": "markdown",
   "id": "c3acecb4",
   "metadata": {},
   "source": [
    "## 评估策略"
   ]
  },
  {
   "cell_type": "code",
   "execution_count": 5,
   "id": "d8833aa6",
   "metadata": {},
   "outputs": [
    {
     "name": "stdout",
     "output_type": "stream",
     "text": [
      "MSE: 413447.2500, RMSE: 642.9986\n"
     ]
    }
   ],
   "source": [
    "from sklearn.metrics import mean_squared_error\n",
    "\n",
    "mse = mean_squared_error(y_test, predictions)\n",
    "rmse = np.sqrt(mse)\n",
    "print(f'MSE: {mse:.4f}, RMSE: {rmse:.4f}')"
   ]
  }
 ],
 "metadata": {
  "kernelspec": {
   "display_name": "Python 3",
   "language": "python",
   "name": "python3"
  },
  "language_info": {
   "codemirror_mode": {
    "name": "ipython",
    "version": 3
   },
   "file_extension": ".py",
   "mimetype": "text/x-python",
   "name": "python",
   "nbconvert_exporter": "python",
   "pygments_lexer": "ipython3",
   "version": "3.12.1"
  }
 },
 "nbformat": 4,
 "nbformat_minor": 5
}
